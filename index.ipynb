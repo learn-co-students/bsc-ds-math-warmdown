{
 "cells": [
  {
   "cell_type": "markdown",
   "id": "f5a9ac55",
   "metadata": {
    "index": 0,
    "solution": false
   },
   "source": [
    "# Gradient Descent and Linear Algebra Review\n",
    "\n",
    "In this notebook, we review:\n",
    "* Referencing sklearn documentation\n",
    "* `learning rate` - a standard hyperparameter for gradient descent algorithms\n",
    "    * How learning rate impacts a model's fit.\n",
    "* Introductory elements of linear algebra.\n",
    "    * Vector shape\n",
    "    * Dot products\n",
    "    * Numpy arrays"
   ]
  },
  {
   "cell_type": "markdown",
   "id": "fa486ab4",
   "metadata": {
    "index": 1,
    "solution": false
   },
   "source": [
    "In the next cell we import the necessary packages for the notebook and load in a dataset containing information about diatebetes patients. \n",
    "\n",
    "**Data Understanding**\n",
    "\n",
    "The documentation for this dataset provides the following summary:\n",
    "\n",
    "> *\"Ten baseline variables, age, sex, body mass index, average blood\n",
    "pressure, and six blood serum measurements were obtained for each of n =\n",
    "442 diabetes patients, as well as the response of interest, a\n",
    "quantitative measure of disease progression one year after baseline.\"*"
   ]
  },
  {
   "cell_type": "code",
   "execution_count": null,
   "id": "1a70332c",
   "metadata": {
    "index": 2,
    "solution": false
   },
   "outputs": [],
   "source": [
    "# Sklearn's gradient descent linear regression model\n",
    "from sklearn.linear_model import SGDRegressor\n",
    "\n",
    "# Pandas and numpy\n",
    "import pandas as pd\n",
    "import numpy as np\n",
    "\n",
    "# Train test split\n",
    "from sklearn.model_selection import train_test_split\n",
    "\n",
    "# Load Data\n",
    "from sklearn.datasets import load_diabetes\n",
    "data = load_diabetes()\n",
    "df = pd.DataFrame(data['data'], columns=data['feature_names'])\n",
    "df['target'] = data['target']\n",
    "\n",
    "# Jupyter configuration\n",
    "%config Completer.use_jedi = False\n",
    "\n",
    "df.head(3)"
   ]
  },
  {
   "cell_type": "markdown",
   "id": "385045cb",
   "metadata": {
    "index": 4,
    "solution": false
   },
   "source": [
    "# Gradient Descent "
   ]
  },
  {
   "cell_type": "markdown",
   "id": "1683e469",
   "metadata": {
    "index": 5,
    "solution": false
   },
   "source": [
    "## 1. Set up a train test split\n",
    "\n",
    "In the cell below, please create a train test split for this dataset, setting `target` as the response variable and all other columns as independent variables.\n",
    "* Set the random state to 2021"
   ]
  },
  {
   "cell_type": "code",
   "execution_count": null,
   "id": "7e352838",
   "metadata": {
    "index": 6,
    "solution": false
   },
   "outputs": [],
   "source": [
    "# Your code here"
   ]
  },
  {
   "cell_type": "markdown",
   "id": "d99e9e77",
   "metadata": {
    "index": 8,
    "solution": false
   },
   "source": [
    "## 2. Initialize an SGDRegressor model\n",
    "\n",
    "Now, initialize an `SGDRegressor` model.\n",
    "* Set the random state to 2021"
   ]
  },
  {
   "cell_type": "code",
   "execution_count": null,
   "id": "b3955e1c",
   "metadata": {
    "index": 9,
    "solution": false
   },
   "outputs": [],
   "source": [
    "# Your code here"
   ]
  },
  {
   "cell_type": "markdown",
   "id": "50da248b",
   "metadata": {
    "index": 11,
    "solution": false
   },
   "source": [
    "## 3. Fit the model\n",
    "\n",
    "In the cell below, fit the model to the training data."
   ]
  },
  {
   "cell_type": "code",
   "execution_count": null,
   "id": "0ee46a26",
   "metadata": {
    "index": 12,
    "solution": false
   },
   "outputs": [],
   "source": [
    "# Your code here"
   ]
  },
  {
   "cell_type": "markdown",
   "id": "31e8e687",
   "metadata": {
    "index": 14,
    "solution": false
   },
   "source": [
    "At this point in the program, you may have become accustomed to ignoring pink warning messages –– mostly because `pandas` returns many unhelpful warning messages. \n",
    "\n",
    "It is important to state that, generally, you should not default to ignoring warning messages. In this case the above pink warning message is quite informative!\n",
    "\n",
    "The above warning message tells us that our model failed to converge. This means that our model did not find the minima of the cost curve, which we usually want! The warning offers the suggestion:\n",
    "> *\"Consider increasing max_iter to improve the fit.\"*\n",
    "\n",
    "\n",
    "`max_iter` is an adjustable hyperparameter for the `SGDRegressor` model.\n",
    "\n",
    "Let's zoom in on this parameter for a second."
   ]
  },
  {
   "cell_type": "code",
   "execution_count": null,
   "id": "9e3e484d",
   "metadata": {
    "index": 15,
    "solution": false
   },
   "outputs": [],
   "source": [
    "# Run this cell unchanged\n",
    "from src.questions import *\n",
    "question_4.display()"
   ]
  },
  {
   "cell_type": "markdown",
   "id": "7141650d",
   "metadata": {
    "index": 17,
    "solution": false
   },
   "source": [
    "## 5. Update the max_iter\n",
    "\n",
    "In the cell below, initialize a new `SGDRegessor` model with `max_iter` set to 10,000. \n",
    "* Set the random state to 2021"
   ]
  },
  {
   "cell_type": "code",
   "execution_count": null,
   "id": "0e8aef65",
   "metadata": {
    "index": 18,
    "solution": false
   },
   "outputs": [],
   "source": [
    "# Your code here"
   ]
  },
  {
   "cell_type": "markdown",
   "id": "a0c6eca6",
   "metadata": {
    "index": 20,
    "solution": false
   },
   "source": [
    "The model converged! This tells us that the model just needed to run for longer to reach the minima of the cost curve. \n",
    "\n",
    "\n",
    "But how do you find the necessary number of iterations? \n",
    "\n",
    "In the cell below, we have written some code that shows you how to find the required number of iterations programmatically. This code is mostly being provided in case you ever need it, so don't stress if it feels intimidating!\n",
    "\n",
    "In truth, there is a different hyperparameter we tend to use to help our models converges. "
   ]
  },
  {
   "cell_type": "code",
   "execution_count": null,
   "id": "c7356c5a",
   "metadata": {
    "index": 21,
    "solution": false
   },
   "outputs": [],
   "source": [
    "# Run this cell unchanged\n",
    "import warnings\n",
    "\n",
    "# Loop over a range of numbers between 1000 10,000\n",
    "for i in range(1000, 10000, 500):\n",
    "    # Catch the ConvergenceWarning\n",
    "    with warnings.catch_warnings():\n",
    "        # If a warning is produced, throw an error instead\n",
    "        warnings.filterwarnings('error')\n",
    "        # Place the model fit inside a try except block to catch the error\n",
    "        try:\n",
    "            model = SGDRegressor(max_iter=i, random_state=2021)\n",
    "            model.fit(X_train, y_train)\n",
    "            # If the model fits without a ConvergenceWarning stop the for loop\n",
    "            break\n",
    "        except Warning:\n",
    "            # If the model returns a ConvergenceWarning, move to the next iteration.\n",
    "            continue\n",
    "            \n",
    "# Print the number of iterations that allowed the model to converge\n",
    "print('Max iterations needed for convergence:', i)"
   ]
  },
  {
   "cell_type": "markdown",
   "id": "e01b45d2",
   "metadata": {
    "index": 22,
    "solution": false
   },
   "source": [
    "### Let's zoom in on the *learning rate*!"
   ]
  },
  {
   "cell_type": "markdown",
   "id": "25e3e9d4",
   "metadata": {
    "index": 23,
    "solution": false
   },
   "source": [
    "## 6. What is the default setting for alpha (learning rate) for the `SGDRegressor`? - Multi choice"
   ]
  },
  {
   "cell_type": "code",
   "execution_count": null,
   "id": "0d8343e9",
   "metadata": {
    "index": 24,
    "solution": false
   },
   "outputs": [],
   "source": [
    "# Run this cell unchanged\n",
    "question_6.display()"
   ]
  },
  {
   "cell_type": "markdown",
   "id": "0359d55e",
   "metadata": {
    "index": 26,
    "solution": false
   },
   "source": [
    "## 7. Update the alpha to .01 and set the max_iter to 2000"
   ]
  },
  {
   "cell_type": "code",
   "execution_count": null,
   "id": "81be1148",
   "metadata": {
    "index": 27,
    "solution": false
   },
   "outputs": [],
   "source": [
    "# Your code here"
   ]
  },
  {
   "cell_type": "markdown",
   "id": "81db3a4e",
   "metadata": {
    "index": 29,
    "solution": false
   },
   "source": [
    "## 8. The model converged - True or False"
   ]
  },
  {
   "cell_type": "code",
   "execution_count": null,
   "id": "77f01f7b",
   "metadata": {
    "index": 30,
    "solution": false
   },
   "outputs": [],
   "source": [
    "# Run this cell unchanged\n",
    "question_8.display()"
   ]
  },
  {
   "cell_type": "markdown",
   "id": "2f40f15b",
   "metadata": {
    "index": 32,
    "solution": false
   },
   "source": [
    "## 9. Select the answer that best describes how alpha impacts a model's fit"
   ]
  },
  {
   "cell_type": "code",
   "execution_count": null,
   "id": "d47b8e4d",
   "metadata": {
    "index": 33,
    "solution": false
   },
   "outputs": [],
   "source": [
    "# Run this cell unchanged\n",
    "question_9.display()"
   ]
  },
  {
   "cell_type": "markdown",
   "id": "353a8156",
   "metadata": {
    "index": 35,
    "solution": false
   },
   "source": [
    "# Linear Algebra "
   ]
  },
  {
   "cell_type": "markdown",
   "id": "b5a5c222",
   "metadata": {
    "index": 36,
    "solution": false
   },
   "source": [
    "## 10. When finding the dot product for two vectors, the length of the vectors must be the same."
   ]
  },
  {
   "cell_type": "code",
   "execution_count": null,
   "id": "9089509e",
   "metadata": {
    "index": 37,
    "solution": false
   },
   "outputs": [],
   "source": [
    "# Run this cell unchanged\n",
    "question_10.display()"
   ]
  },
  {
   "cell_type": "markdown",
   "id": "c97e2412",
   "metadata": {
    "index": 39,
    "solution": false
   },
   "source": [
    "## 11. Please select the solution for the dot product of the following vectors.\n",
    "\n",
    "$vector_1 = \\begin{bmatrix} 10&13\\\\ \\end{bmatrix}$\n",
    "\n",
    "$vector_2= \\begin{bmatrix} -4&82\\\\ \\end{bmatrix}$\n"
   ]
  },
  {
   "cell_type": "code",
   "execution_count": null,
   "id": "ddedea16",
   "metadata": {
    "index": 40,
    "solution": false
   },
   "outputs": [],
   "source": [
    "# Run this cell unchanged\n",
    "question_11.display()"
   ]
  },
  {
   "cell_type": "markdown",
   "id": "f9475a0d",
   "metadata": {
    "index": 42,
    "solution": false
   },
   "source": [
    "## 12. How do you turn a list into a numpy array?"
   ]
  },
  {
   "cell_type": "code",
   "execution_count": null,
   "id": "8aa2a19e",
   "metadata": {
    "index": 43,
    "solution": false
   },
   "outputs": [],
   "source": [
    "# Run this cell unchanged\n",
    "\n",
    "question_12.display()"
   ]
  },
  {
   "cell_type": "markdown",
   "id": "76f2161b",
   "metadata": {
    "index": 45,
    "solution": false
   },
   "source": [
    "## 13. Please find the dot product of the following vectors"
   ]
  },
  {
   "cell_type": "code",
   "execution_count": null,
   "id": "0b2d4d24",
   "metadata": {
    "index": 46,
    "solution": false
   },
   "outputs": [],
   "source": [
    "vector_1 = [\n",
    "               [ 0.80559827,  0.29916789,  0.39630405,  0.92797795, -0.13808099],\n",
    "               [ 1.7249222 ,  1.59418491,  1.95963002,  0.64988373, -0.08225951],\n",
    "               [-0.50472891,  0.74287965,  1.8927091 ,  0.33783705,  0.94361808],\n",
    "               [ 0.99034854, -1.0526394 , -0.33825968, -0.40148036,  1.81821604],\n",
    "               [-0.7298026 , -0.88302624,  0.49319177, -0.02758864,  0.33430167],\n",
    "               [ 0.85938167, -0.71149948, -1.8434118 ,  0.89097775,  0.53842254]\n",
    "                                                                                    ]\n",
    "\n",
    "\n",
    "vector_2 = [\n",
    "              [ 0.13288805],\n",
    "              [-2.50839814],\n",
    "              [-0.90620828],\n",
    "              [ 0.09841538],\n",
    "              [ 1.86783262],\n",
    "              [ 1.98903307]\n",
    "                               ]"
   ]
  },
  {
   "cell_type": "code",
   "execution_count": null,
   "id": "1a3a5bbd",
   "metadata": {
    "index": 48,
    "solution": false
   },
   "outputs": [],
   "source": [
    "# Your code here"
   ]
  }
 ],
 "metadata": {},
 "nbformat": 4,
 "nbformat_minor": 5
}
