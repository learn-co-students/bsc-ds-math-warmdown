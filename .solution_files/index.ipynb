{
 "cells": [
  {
   "cell_type": "markdown",
   "id": "f5a9ac55",
   "metadata": {
    "index": 0,
    "solution": false
   },
   "source": [
    "# Gradient Descent and Linear Algebra Review\n",
    "\n",
    "In this notebook, we review:\n",
    "* Referencing sklearn documentation\n",
    "* `learning rate` - a standard hyperparameter for gradient descent algorithms\n",
    "    * How learning rate impacts a model's fit.\n",
    "* Introductory elements of linear algebra.\n",
    "    * Vector shape\n",
    "    * Dot products\n",
    "    * Numpy arrays"
   ]
  },
  {
   "cell_type": "markdown",
   "id": "fa486ab4",
   "metadata": {
    "index": 1,
    "solution": false
   },
   "source": [
    "In the next cell we import the necessary packages for the notebook and load in a dataset containing information about diatebetes patients. \n",
    "\n",
    "**Data Understanding**\n",
    "\n",
    "The documentation for this dataset provides the following summary:\n",
    "\n",
    "> *\"Ten baseline variables, age, sex, body mass index, average blood\n",
    "pressure, and six blood serum measurements were obtained for each of n =\n",
    "442 diabetes patients, as well as the response of interest, a\n",
    "quantitative measure of disease progression one year after baseline.\"*"
   ]
  },
  {
   "cell_type": "code",
   "execution_count": null,
   "id": "1f934c3a",
   "metadata": {
    "execution": {
     "iopub.execute_input": "2021-10-13T23:15:51.570656Z",
     "iopub.status.busy": "2021-10-13T23:15:51.569921Z",
     "iopub.status.idle": "2021-10-13T23:15:53.027961Z",
     "shell.execute_reply": "2021-10-13T23:15:53.028405Z"
    },
    "index": 3,
    "solution": true
   },
   "outputs": [],
   "source": [
    "# Sklearn's gradient descent linear regression model\n",
    "from sklearn.linear_model import SGDRegressor\n",
    "\n",
    "# Pandas and numpy\n",
    "import pandas as pd\n",
    "import numpy as np\n",
    "\n",
    "# Train test split\n",
    "from sklearn.model_selection import train_test_split\n",
    "\n",
    "# Load Data\n",
    "from sklearn.datasets import load_diabetes\n",
    "data = load_diabetes()\n",
    "df = pd.DataFrame(data['data'], columns=data['feature_names'])\n",
    "df['target'] = data['target']\n",
    "\n",
    "# Jupyter configuration\n",
    "%config Completer.use_jedi = False\n",
    "\n",
    "df.head(3)"
   ]
  },
  {
   "cell_type": "markdown",
   "id": "385045cb",
   "metadata": {
    "index": 4,
    "solution": false
   },
   "source": [
    "# Gradient Descent "
   ]
  },
  {
   "cell_type": "markdown",
   "id": "1683e469",
   "metadata": {
    "index": 5,
    "solution": false
   },
   "source": [
    "## 1. Set up a train test split\n",
    "\n",
    "In the cell below, please create a train test split for this dataset, setting `target` as the response variable and all other columns as independent variables.\n",
    "* Set the random state to 2021"
   ]
  },
  {
   "cell_type": "code",
   "execution_count": null,
   "id": "7f940cae",
   "metadata": {
    "execution": {
     "iopub.execute_input": "2021-10-13T23:15:53.035222Z",
     "iopub.status.busy": "2021-10-13T23:15:53.034463Z",
     "iopub.status.idle": "2021-10-13T23:15:53.036364Z",
     "shell.execute_reply": "2021-10-13T23:15:53.036813Z"
    },
    "index": 7,
    "solution": true
   },
   "outputs": [],
   "source": [
    "X = df.drop('target', axis = 1)\n",
    "y = df.target\n",
    "X_train, X_test, y_train, y_test = train_test_split(X, y, random_state=2021)"
   ]
  },
  {
   "cell_type": "markdown",
   "id": "d99e9e77",
   "metadata": {
    "index": 8,
    "solution": false
   },
   "source": [
    "## 2. Initialize an SGDRegressor model\n",
    "\n",
    "Now, initialize an `SGDRegressor` model.\n",
    "* Set the random state to 2021"
   ]
  },
  {
   "cell_type": "code",
   "execution_count": null,
   "id": "cc19108e",
   "metadata": {
    "execution": {
     "iopub.execute_input": "2021-10-13T23:15:53.040375Z",
     "iopub.status.busy": "2021-10-13T23:15:53.039806Z",
     "iopub.status.idle": "2021-10-13T23:15:53.041644Z",
     "shell.execute_reply": "2021-10-13T23:15:53.042049Z"
    },
    "index": 10,
    "solution": true
   },
   "outputs": [],
   "source": [
    "model = SGDRegressor(random_state=2021)"
   ]
  },
  {
   "cell_type": "markdown",
   "id": "50da248b",
   "metadata": {
    "index": 11,
    "solution": false
   },
   "source": [
    "## 3. Fit the model\n",
    "\n",
    "In the cell below, fit the model to the training data."
   ]
  },
  {
   "cell_type": "code",
   "execution_count": null,
   "id": "f459e6f1",
   "metadata": {
    "execution": {
     "iopub.execute_input": "2021-10-13T23:15:53.046888Z",
     "iopub.status.busy": "2021-10-13T23:15:53.046311Z",
     "iopub.status.idle": "2021-10-13T23:15:53.082537Z",
     "shell.execute_reply": "2021-10-13T23:15:53.083105Z"
    },
    "index": 13,
    "solution": true
   },
   "outputs": [],
   "source": [
    "model.fit(X_train, y_train)"
   ]
  },
  {
   "cell_type": "markdown",
   "id": "31e8e687",
   "metadata": {
    "index": 14,
    "solution": false
   },
   "source": [
    "At this point in the program, you may have become accustomed to ignoring pink warning messages –– mostly because `pandas` returns many unhelpful warning messages. \n",
    "\n",
    "It is important to state that, generally, you should not default to ignoring warning messages. In this case the above pink warning message is quite informative!\n",
    "\n",
    "The above warning message tells us that our model failed to converge. This means that our model did not find the minima of the cost curve, which we usually want! The warning offers the suggestion:\n",
    "> *\"Consider increasing max_iter to improve the fit.\"*\n",
    "\n",
    "\n",
    "`max_iter` is an adjustable hyperparameter for the `SGDRegressor` model.\n",
    "\n",
    "Let's zoom in on this parameter for a second."
   ]
  },
  {
   "cell_type": "code",
   "execution_count": null,
   "id": "2b0e3c70",
   "metadata": {
    "execution": {
     "iopub.execute_input": "2021-10-13T23:15:53.086829Z",
     "iopub.status.busy": "2021-10-13T23:15:53.086216Z",
     "iopub.status.idle": "2021-10-13T23:15:53.303582Z",
     "shell.execute_reply": "2021-10-13T23:15:53.303986Z"
    },
    "index": 16,
    "solution": true
   },
   "outputs": [],
   "source": [
    "from src.questions import *\n",
    "question_4.display()"
   ]
  },
  {
   "cell_type": "markdown",
   "id": "7141650d",
   "metadata": {
    "index": 17,
    "solution": false
   },
   "source": [
    "## 5. Update the max_iter\n",
    "\n",
    "In the cell below, initialize a new `SGDRegessor` model with `max_iter` set to 10,000. \n",
    "* Set the random state to 2021"
   ]
  },
  {
   "cell_type": "code",
   "execution_count": null,
   "id": "4d209325",
   "metadata": {
    "execution": {
     "iopub.execute_input": "2021-10-13T23:15:53.331957Z",
     "iopub.status.busy": "2021-10-13T23:15:53.331313Z",
     "iopub.status.idle": "2021-10-13T23:15:53.499399Z",
     "shell.execute_reply": "2021-10-13T23:15:53.499847Z"
    },
    "index": 19,
    "solution": true
   },
   "outputs": [],
   "source": [
    "model = SGDRegressor(max_iter=10000, random_state=2021)\n",
    "model.fit(X_train, y_train)"
   ]
  },
  {
   "cell_type": "markdown",
   "id": "a0c6eca6",
   "metadata": {
    "index": 20,
    "solution": false
   },
   "source": [
    "The model converged! This tells us that the model just needed to run for longer to reach the minima of the cost curve. \n",
    "\n",
    "\n",
    "But how do you find the necessary number of iterations? \n",
    "\n",
    "In the cell below, we have written some code that shows you how to find the required number of iterations programmatically. This code is mostly being provided in case you ever need it, so don't stress if it feels intimidating!\n",
    "\n",
    "In truth, there is a different hyperparameter we tend to use to help our models converges. "
   ]
  },
  {
   "cell_type": "markdown",
   "id": "e01b45d2",
   "metadata": {
    "index": 22,
    "solution": false
   },
   "source": [
    "### Let's zoom in on the *learning rate*!"
   ]
  },
  {
   "cell_type": "markdown",
   "id": "25e3e9d4",
   "metadata": {
    "index": 23,
    "solution": false
   },
   "source": [
    "## 6. What is the default setting for alpha (learning rate) for the `SGDRegressor`? - Multi choice"
   ]
  },
  {
   "cell_type": "code",
   "execution_count": null,
   "id": "5948a80c",
   "metadata": {
    "execution": {
     "iopub.execute_input": "2021-10-13T23:15:53.507228Z",
     "iopub.status.busy": "2021-10-13T23:15:53.506616Z",
     "iopub.status.idle": "2021-10-13T23:15:53.509651Z",
     "shell.execute_reply": "2021-10-13T23:15:53.510051Z"
    },
    "index": 25,
    "solution": true
   },
   "outputs": [],
   "source": [
    "# Run this cell unchanged\n",
    "question_6.display()"
   ]
  },
  {
   "cell_type": "markdown",
   "id": "0359d55e",
   "metadata": {
    "index": 26,
    "solution": false
   },
   "source": [
    "## 7. Update the alpha to .01 and set the max_iter to 2000"
   ]
  },
  {
   "cell_type": "code",
   "execution_count": null,
   "id": "d4f8c333",
   "metadata": {
    "execution": {
     "iopub.execute_input": "2021-10-13T23:15:53.515035Z",
     "iopub.status.busy": "2021-10-13T23:15:53.514301Z",
     "iopub.status.idle": "2021-10-13T23:15:53.558031Z",
     "shell.execute_reply": "2021-10-13T23:15:53.558537Z"
    },
    "index": 28,
    "solution": true
   },
   "outputs": [],
   "source": [
    "model = SGDRegressor(max_iter=2000, alpha=0.01, random_state=2021)\n",
    "model.fit(X_train, y_train)"
   ]
  },
  {
   "cell_type": "markdown",
   "id": "81db3a4e",
   "metadata": {
    "index": 29,
    "solution": false
   },
   "source": [
    "## 8. The model converged - True or False"
   ]
  },
  {
   "cell_type": "code",
   "execution_count": null,
   "id": "d8bbe1ad",
   "metadata": {
    "execution": {
     "iopub.execute_input": "2021-10-13T23:15:53.564682Z",
     "iopub.status.busy": "2021-10-13T23:15:53.564056Z",
     "iopub.status.idle": "2021-10-13T23:15:53.567217Z",
     "shell.execute_reply": "2021-10-13T23:15:53.567592Z"
    },
    "index": 31,
    "solution": true
   },
   "outputs": [],
   "source": [
    "# Run this cell unchanged\n",
    "question_8.display()"
   ]
  },
  {
   "cell_type": "markdown",
   "id": "2f40f15b",
   "metadata": {
    "index": 32,
    "solution": false
   },
   "source": [
    "## 9. Select the answer that best describes how alpha impacts a model's fit"
   ]
  },
  {
   "cell_type": "code",
   "execution_count": null,
   "id": "daaa3ac2",
   "metadata": {
    "execution": {
     "iopub.execute_input": "2021-10-13T23:15:53.574096Z",
     "iopub.status.busy": "2021-10-13T23:15:53.573483Z",
     "iopub.status.idle": "2021-10-13T23:15:53.576494Z",
     "shell.execute_reply": "2021-10-13T23:15:53.576862Z"
    },
    "index": 34,
    "solution": true
   },
   "outputs": [],
   "source": [
    "# Run this cell unchanged\n",
    "question_9.display()"
   ]
  },
  {
   "cell_type": "markdown",
   "id": "353a8156",
   "metadata": {
    "index": 35,
    "solution": false
   },
   "source": [
    "# Linear Algebra "
   ]
  },
  {
   "cell_type": "markdown",
   "id": "b5a5c222",
   "metadata": {
    "index": 36,
    "solution": false
   },
   "source": [
    "## 10. When finding the dot product for two vectors, the length of the vectors must be the same."
   ]
  },
  {
   "cell_type": "code",
   "execution_count": null,
   "id": "881c2713",
   "metadata": {
    "execution": {
     "iopub.execute_input": "2021-10-13T23:15:53.583214Z",
     "iopub.status.busy": "2021-10-13T23:15:53.582606Z",
     "iopub.status.idle": "2021-10-13T23:15:53.585632Z",
     "shell.execute_reply": "2021-10-13T23:15:53.586027Z"
    },
    "index": 38,
    "solution": true
   },
   "outputs": [],
   "source": [
    "# Run this cell unchanged\n",
    "question_10.display()"
   ]
  },
  {
   "cell_type": "markdown",
   "id": "c97e2412",
   "metadata": {
    "index": 39,
    "solution": false
   },
   "source": [
    "## 11. Please select the solution for the dot product of the following vectors.\n",
    "\n",
    "$vector_1 = \\begin{bmatrix} 10&13\\\\ \\end{bmatrix}$\n",
    "\n",
    "$vector_2= \\begin{bmatrix} -4&82\\\\ \\end{bmatrix}$\n"
   ]
  },
  {
   "cell_type": "code",
   "execution_count": null,
   "id": "b7a334f3",
   "metadata": {
    "execution": {
     "iopub.execute_input": "2021-10-13T23:15:53.592178Z",
     "iopub.status.busy": "2021-10-13T23:15:53.589744Z",
     "iopub.status.idle": "2021-10-13T23:15:53.594968Z",
     "shell.execute_reply": "2021-10-13T23:15:53.595320Z"
    },
    "index": 41,
    "solution": true
   },
   "outputs": [],
   "source": [
    "# Run this cell unchanged\n",
    "question_11.display()"
   ]
  },
  {
   "cell_type": "markdown",
   "id": "f9475a0d",
   "metadata": {
    "index": 42,
    "solution": false
   },
   "source": [
    "## 12. How do you turn a list into a numpy array?"
   ]
  },
  {
   "cell_type": "code",
   "execution_count": null,
   "id": "1eb58d26",
   "metadata": {
    "execution": {
     "iopub.execute_input": "2021-10-13T23:15:53.599255Z",
     "iopub.status.busy": "2021-10-13T23:15:53.598653Z",
     "iopub.status.idle": "2021-10-13T23:15:53.603927Z",
     "shell.execute_reply": "2021-10-13T23:15:53.604298Z"
    },
    "index": 44,
    "solution": true
   },
   "outputs": [],
   "source": [
    "# Run this cell unchanged\n",
    "\n",
    "question_12.display()"
   ]
  },
  {
   "cell_type": "markdown",
   "id": "76f2161b",
   "metadata": {
    "index": 45,
    "solution": false
   },
   "source": [
    "## 13. Please find the dot product of the following vectors"
   ]
  },
  {
   "cell_type": "code",
   "execution_count": null,
   "id": "7dac6551",
   "metadata": {
    "execution": {
     "iopub.execute_input": "2021-10-13T23:15:53.609156Z",
     "iopub.status.busy": "2021-10-13T23:15:53.608597Z",
     "iopub.status.idle": "2021-10-13T23:15:53.610194Z",
     "shell.execute_reply": "2021-10-13T23:15:53.610713Z"
    },
    "index": 47,
    "solution": true
   },
   "outputs": [],
   "source": [
    "vector_1 = [\n",
    "               [ 0.80559827,  0.29916789,  0.39630405,  0.92797795, -0.13808099],\n",
    "               [ 1.7249222 ,  1.59418491,  1.95963002,  0.64988373, -0.08225951],\n",
    "               [-0.50472891,  0.74287965,  1.8927091 ,  0.33783705,  0.94361808],\n",
    "               [ 0.99034854, -1.0526394 , -0.33825968, -0.40148036,  1.81821604],\n",
    "               [-0.7298026 , -0.88302624,  0.49319177, -0.02758864,  0.33430167],\n",
    "               [ 0.85938167, -0.71149948, -1.8434118 ,  0.89097775,  0.53842254]\n",
    "                                                                                    ]\n",
    "\n",
    "\n",
    "vector_2 = [\n",
    "              [ 0.13288805],\n",
    "              [-2.50839814],\n",
    "              [-0.90620828],\n",
    "              [ 0.09841538],\n",
    "              [ 1.86783262],\n",
    "              [ 1.98903307]\n",
    "                               ]"
   ]
  },
  {
   "cell_type": "code",
   "execution_count": null,
   "id": "fd50b713",
   "metadata": {
    "execution": {
     "iopub.execute_input": "2021-10-13T23:15:53.614484Z",
     "iopub.status.busy": "2021-10-13T23:15:53.613953Z",
     "iopub.status.idle": "2021-10-13T23:15:53.616603Z",
     "shell.execute_reply": "2021-10-13T23:15:53.617052Z"
    },
    "index": 49,
    "solution": true
   },
   "outputs": [],
   "source": [
    "vector_1 = np.array(vector_1)\n",
    "vector_2 = np.array(vector_2)\n",
    "\n",
    "np.dot(vector_1.T, vector_2)"
   ]
  }
 ],
 "metadata": {},
 "nbformat": 4,
 "nbformat_minor": 5
}
